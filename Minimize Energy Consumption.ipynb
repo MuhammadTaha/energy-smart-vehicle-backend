{
 "cells": [
  {
   "cell_type": "code",
   "execution_count": 79,
   "metadata": {},
   "outputs": [],
   "source": [
    "%config IPCompleter.greedy=True"
   ]
  },
  {
   "cell_type": "code",
   "execution_count": 80,
   "metadata": {
    "scrolled": true
   },
   "outputs": [],
   "source": [
    "from gurobipy import *\n",
    "import math\n",
    "import json\n",
    "\n",
    "class Scenario:\n",
    "\n",
    "    def minimize_energy_consumption(self):\n",
    "        try:\n",
    "    \n",
    "            tempUB = 20\n",
    "            tempLB = 18\n",
    "            EUC = 4551\n",
    "            ELAggresive = 4248\n",
    "            ELEconomic = 4181\n",
    "            ELDrowsy = 3520\n",
    "            unitPrice = 0.2477\n",
    "\n",
    "            # Create a new model\n",
    "            mAggresive = Model(\"mAggresive\")\n",
    "            mEconomic = Model(\"mEconomic\")\n",
    "            mDrowsy = Model(\"mDrowsy\")\n",
    "\n",
    "            temp = mAggresive.addVar(tempLB,tempUB, vtype=GRB.CONTINUOUS, name = \"temp\")\n",
    "            tempEcon = mEconomic.addVar(tempLB,tempUB, vtype=GRB.CONTINUOUS, name = \"tempEcon\")\n",
    "            tempDrow = mDrowsy.addVar(tempLB,tempUB, vtype=GRB.CONTINUOUS, name = \"tempDrow\")\n",
    "\n",
    "            mAggresive.update()\n",
    "            mEconomic.update()\n",
    "            mDrowsy.update()\n",
    "            \n",
    "            EC = (1.974*temp*temp - 44.889*temp +4409.5)\n",
    "            ECEcon = (1.974*tempEcon*tempEcon - 44.889*tempEcon +4409.5) \n",
    "            ECDrow = (1.974*tempDrow*tempDrow - 44.889*tempDrow +4409.5)\n",
    "\n",
    "            mAggresive.setObjective(EC + EUC + ELAggresive, GRB.MINIMIZE)\n",
    "            mEconomic.setObjective(ECEcon + EUC + ELEconomic, GRB.MINIMIZE)\n",
    "            mDrowsy.setObjective(ECDrow + EUC + ELDrowsy, GRB.MINIMIZE)\n",
    "\n",
    "            # Optimize model\n",
    "            mAggresive.optimize()\n",
    "            mEconomic.optimize()\n",
    "            mDrowsy.optimize()\n",
    "            \n",
    "            print('\\nPer Unit Price: %g' % unitPrice)\n",
    "            print('\\n***Aggressive Mode***')\n",
    "\n",
    "            for v in mAggresive.getVars():\n",
    "                print('Ideal Temperature %g' % ( v.x))\n",
    "\n",
    "            print('Minimum Energy consumed in Wh: %g' % mAggresive.objVal)\n",
    "            print('Cost of Energy consumed in Euros: %g \\n' % ((mAggresive.objVal/1000)*unitPrice))\n",
    "\n",
    "            print('\\n***Economic Mode***')\n",
    "            for v in mEconomic.getVars():\n",
    "                print('Ideal Temperature %g' %  v.x)\n",
    "\n",
    "            print('Minimum Energy consumed in Wh: %g' % mEconomic.objVal)\n",
    "            print('Cost of Energy consumed in Euros: %g \\n' % ((mEconomic.objVal/1000)*unitPrice))\n",
    "            \n",
    "            print('\\n***Drowsy Mode***')\n",
    "            for v in mDrowsy.getVars():\n",
    "                print('Ideal Temperature  %g' % v.x)\n",
    "\n",
    "            print('Minimum Energy consumed in Wh: %g' % mDrowsy.objVal)\n",
    "            print('Cost of Energy consumed in Euros: %g \\n' % ((mDrowsy.objVal/1000)*unitPrice))\n",
    "\n",
    "\n",
    "        except GurobiError as e:\n",
    "            print('Error code ' + str(e.errno) + \": \" + str(e))\n",
    "\n",
    "            "
   ]
  },
  {
   "cell_type": "code",
   "execution_count": null,
   "metadata": {},
   "outputs": [],
   "source": []
  },
  {
   "cell_type": "code",
   "execution_count": 81,
   "metadata": {
    "scrolled": false
   },
   "outputs": [
    {
     "name": "stdout",
     "output_type": "stream",
     "text": [
      "Optimize a model with 0 rows, 1 columns and 0 nonzeros\n",
      "Model has 1 quadratic objective term\n",
      "Coefficient statistics:\n",
      "  Matrix range     [0e+00, 0e+00]\n",
      "  Objective range  [4e+01, 4e+01]\n",
      "  QObjective range [4e+00, 4e+00]\n",
      "  Bounds range     [2e+01, 2e+01]\n",
      "  RHS range        [0e+00, 0e+00]\n",
      "Presolve removed 0 rows and 1 columns\n",
      "Presolve time: 0.01s\n",
      "Presolve: All rows and columns removed\n",
      "\n",
      "Barrier solved model in 0 iterations and 0.02 seconds\n",
      "Optimal objective 1.30400740e+04\n",
      "Optimize a model with 0 rows, 1 columns and 0 nonzeros\n",
      "Model has 1 quadratic objective term\n",
      "Coefficient statistics:\n",
      "  Matrix range     [0e+00, 0e+00]\n",
      "  Objective range  [4e+01, 4e+01]\n",
      "  QObjective range [4e+00, 4e+00]\n",
      "  Bounds range     [2e+01, 2e+01]\n",
      "  RHS range        [0e+00, 0e+00]\n",
      "Presolve removed 0 rows and 1 columns\n",
      "Presolve time: 0.01s\n",
      "Presolve: All rows and columns removed\n",
      "\n",
      "Barrier solved model in 0 iterations and 0.02 seconds\n",
      "Optimal objective 1.29730740e+04\n",
      "Optimize a model with 0 rows, 1 columns and 0 nonzeros\n",
      "Model has 1 quadratic objective term\n",
      "Coefficient statistics:\n",
      "  Matrix range     [0e+00, 0e+00]\n",
      "  Objective range  [4e+01, 4e+01]\n",
      "  QObjective range [4e+00, 4e+00]\n",
      "  Bounds range     [2e+01, 2e+01]\n",
      "  RHS range        [0e+00, 0e+00]\n",
      "Presolve removed 0 rows and 1 columns\n",
      "Presolve time: 0.01s\n",
      "Presolve: All rows and columns removed\n",
      "\n",
      "Barrier solved model in 0 iterations and 0.01 seconds\n",
      "Optimal objective 1.23120740e+04\n",
      "\n",
      "Per Unit Price: 0.2477\n",
      "\n",
      "***Aggresive Mode***\n",
      "Ideal Temperature 18\n",
      "Minimum Energy consumed in Wh: 13040.1\n",
      "Amount of Energy consument in Euros: 3.23003 \n",
      "\n",
      "\n",
      "***Economic Mode***\n",
      "Ideal Temperature 18\n",
      "Minimum Energy consumed in Wh: 12973.1\n",
      "Amount of Energy consument in Euros: 3.21343 \n",
      "\n",
      "\n",
      "***Drowsy Mode***\n",
      "Ideal Temperature  18\n",
      "Minimum Energy consumed in Wh: 12312.1\n",
      "Amount of Energy consument in Euros: 3.0497 \n",
      "\n"
     ]
    }
   ],
   "source": [
    "sc1 = Scenario()\n",
    "sc1.minimize_energy_consumption()"
   ]
  }
 ],
 "metadata": {
  "kernelspec": {
   "display_name": "Python 3",
   "language": "python",
   "name": "python3"
  },
  "language_info": {
   "codemirror_mode": {
    "name": "ipython",
    "version": 3
   },
   "file_extension": ".py",
   "mimetype": "text/x-python",
   "name": "python",
   "nbconvert_exporter": "python",
   "pygments_lexer": "ipython3",
   "version": "3.7.3"
  },
  "pycharm": {
   "stem_cell": {
    "cell_type": "raw",
    "source": [],
    "metadata": {
     "collapsed": false
    }
   }
  }
 },
 "nbformat": 4,
 "nbformat_minor": 2
}