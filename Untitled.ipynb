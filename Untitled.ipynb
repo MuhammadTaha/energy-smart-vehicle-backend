{
 "cells": [
  {
   "cell_type": "code",
   "execution_count": null,
   "metadata": {},
   "outputs": [],
   "source": [
    "import numpy as np\n",
    "import pandas as pd\n",
    "import matplotlib.pyplot as plt2\n",
    "import math\n",
    "from keras.utils import to_categorical\n",
    "from keras.models import Sequential\n",
    "from keras.layers import LSTM, Dense,Activation, Dropout"
   ]
  },
  {
   "cell_type": "code",
   "execution_count": 1,
   "metadata": {},
   "outputs": [
    {
     "name": "stdout",
     "output_type": "stream",
     "text": [
      "sdfsdfdfsdfsffffeeww\n",
      "in lstm\n"
     ]
    },
    {
     "ename": "NameError",
     "evalue": "name 'pd' is not defined",
     "output_type": "error",
     "traceback": [
      "\u001b[0;31m---------------------------------------------------------------------------\u001b[0m",
      "\u001b[0;31mNameError\u001b[0m                                 Traceback (most recent call last)",
      "\u001b[0;32m<ipython-input-1-2925ddd13240>\u001b[0m in \u001b[0;36m<module>\u001b[0;34m\u001b[0m\n\u001b[1;32m     16\u001b[0m     \u001b[0;32mreturn\u001b[0m \u001b[0mdf\u001b[0m\u001b[0;34m\u001b[0m\u001b[0;34m\u001b[0m\u001b[0m\n\u001b[1;32m     17\u001b[0m \u001b[0mprint\u001b[0m\u001b[0;34m(\u001b[0m\u001b[0;34m\"in lstm\"\u001b[0m\u001b[0;34m)\u001b[0m\u001b[0;34m\u001b[0m\u001b[0;34m\u001b[0m\u001b[0m\n\u001b[0;32m---> 18\u001b[0;31m \u001b[0mdata\u001b[0m \u001b[0;34m=\u001b[0m \u001b[0mget_data\u001b[0m\u001b[0;34m(\u001b[0m\u001b[0;34m)\u001b[0m\u001b[0;34m\u001b[0m\u001b[0;34m\u001b[0m\u001b[0m\n\u001b[0m\u001b[1;32m     19\u001b[0m \u001b[0mlabels\u001b[0m \u001b[0;34m=\u001b[0m \u001b[0mdata\u001b[0m\u001b[0;34m.\u001b[0m\u001b[0mcolumns\u001b[0m\u001b[0;34m\u001b[0m\u001b[0;34m\u001b[0m\u001b[0m\n\u001b[1;32m     20\u001b[0m \u001b[0;34m\u001b[0m\u001b[0m\n",
      "\u001b[0;32m<ipython-input-1-2925ddd13240>\u001b[0m in \u001b[0;36mget_data\u001b[0;34m(normalized)\u001b[0m\n\u001b[1;32m      7\u001b[0m \u001b[0;34m\u001b[0m\u001b[0m\n\u001b[1;32m      8\u001b[0m     \u001b[0mcol_names\u001b[0m \u001b[0;34m=\u001b[0m \u001b[0;34m[\u001b[0m\u001b[0;34m'Date'\u001b[0m\u001b[0;34m,\u001b[0m \u001b[0;34m'Day_No'\u001b[0m\u001b[0;34m,\u001b[0m\u001b[0;34m'NumberTripsperday'\u001b[0m\u001b[0;34m,\u001b[0m\u001b[0;34m'RelativeFrequency'\u001b[0m\u001b[0;34m,\u001b[0m\u001b[0;34m'1_or_0'\u001b[0m\u001b[0;34m,\u001b[0m\u001b[0;34m'PercentageTripperHour'\u001b[0m\u001b[0;34m,\u001b[0m\u001b[0;34m'HourofDay'\u001b[0m\u001b[0;34m,\u001b[0m\u001b[0;34m'Precipitation'\u001b[0m\u001b[0;34m]\u001b[0m\u001b[0;34m\u001b[0m\u001b[0;34m\u001b[0m\u001b[0m\n\u001b[0;32m----> 9\u001b[0;31m     \u001b[0mstocks\u001b[0m \u001b[0;34m=\u001b[0m \u001b[0mpd\u001b[0m\u001b[0;34m.\u001b[0m\u001b[0mread_csv\u001b[0m\u001b[0;34m(\u001b[0m\u001b[0;34mr\"Dataset_Daylight_Rainfall_Berlin4.csv\"\u001b[0m\u001b[0;34m,\u001b[0m \u001b[0mheader\u001b[0m\u001b[0;34m=\u001b[0m\u001b[0;36m0\u001b[0m\u001b[0;34m)\u001b[0m\u001b[0;34m\u001b[0m\u001b[0;34m\u001b[0m\u001b[0m\n\u001b[0m\u001b[1;32m     10\u001b[0m \u001b[0;34m\u001b[0m\u001b[0m\n\u001b[1;32m     11\u001b[0m     \u001b[0mdf\u001b[0m \u001b[0;34m=\u001b[0m \u001b[0mpd\u001b[0m\u001b[0;34m.\u001b[0m\u001b[0mDataFrame\u001b[0m\u001b[0;34m(\u001b[0m\u001b[0mstocks\u001b[0m\u001b[0;34m)\u001b[0m\u001b[0;34m\u001b[0m\u001b[0;34m\u001b[0m\u001b[0m\n",
      "\u001b[0;31mNameError\u001b[0m: name 'pd' is not defined"
     ]
    }
   ],
   "source": [
    "\n",
    "data_dim = 16\n",
    "timesteps = 8\n",
    "num_classes = 10\n",
    "\n",
    "print(\"sdfsdfdfsdfsffffeeww\")\n",
    "def get_data(normalized=0):\n",
    "\n",
    "    col_names = ['Date', 'Day_No','NumberTripsperday','RelativeFrequency','1_or_0','PercentageTripperHour','HourofDay','Precipitation']\n",
    "    stocks = pd.read_csv(r\"Dataset_Daylight_Rainfall_Berlin4.csv\", header=0)\n",
    "\n",
    "    df = pd.DataFrame(stocks)\n",
    "    df['RelativeFrequency'] = df['RelativeFrequency']*100 ;\n",
    "    df['PercentageTripperHour'] = df['PercentageTripperHour']*100;\n",
    "    df['HourofDay'] = pd.to_datetime(df['HourofDay'],format= '%H:%M:%S' ).dt.hour;\n",
    "\n",
    "    return df\n",
    "print(\"in lstm\")\n",
    "data = get_data()\n",
    "labels = data.columns\n",
    "\n",
    "data.drop(['Date'],inplace=True, axis='columns')\n",
    "\n",
    "\n",
    "data[\"1_or_0\"] = to_categorical(data[\"1_or_0\"])\n",
    "\n",
    "train_size = int(len(data) * 0.8)\n",
    "train, test = data[0:train_size], data[train_size:len(data)]\n",
    "print('Observations: %d' % (len(data)))\n",
    "print('Training Observations: %d' % (len(train)))\n",
    "print('Testing Observations: %d' % (len(test)))"
   ]
  },
  {
   "cell_type": "code",
   "execution_count": null,
   "metadata": {},
   "outputs": [],
   "source": [
    "\n",
    "x_train = train.iloc[:,:-4]\n",
    "y_train = train.iloc[:,-4:]\n",
    "\n",
    "x_test = test.iloc[:,:-4]\n",
    "y_test = test.iloc[:,-4:]\n",
    "\n",
    "\n",
    "data_dim =  x_train.shape[1] #number of input features\n",
    "\n",
    "# # expected input data shape: (batch_size, timesteps, data_dim)\n",
    "model = Sequential()\n",
    "model.add(LSTM(32, return_sequences=True,\n",
    "               input_shape=(1, data_dim)))  # returns a sequence of vectors of dimension 32\n",
    "model.add(LSTM(32, return_sequences=True))  # returns a sequence of vectors of dimension 32\n",
    "model.add(LSTM(32))  # return a single vector of dimension 32\n",
    "model.add(Dense(4))\n",
    "model.add(Activation(\"linear\"))\n",
    "\n",
    "model.compile(loss='mean_squared_error',\n",
    "              optimizer='rmsprop',\n",
    "              metrics=['accuracy'])\n",
    "\n",
    "trainX = np.array(x_train)\n",
    "testX = np.array(x_test)\n",
    "trainX = np.reshape(trainX, (trainX.shape[0], 1, trainX.shape[1]))\n",
    "testX = np.reshape(testX, (testX.shape[0], 1, testX.shape[1]))\n",
    "\n",
    "model.fit(trainX, y_train,\n",
    "          batch_size=64, epochs=20)\n",
    "\n",
    "trainScore = model.evaluate(trainX,y_train , verbose=0)\n",
    "print('Train Score: %.2f MSE (%.2f RMSE)' % (trainScore[0], math.sqrt(trainScore[0])))\n",
    "#\n",
    "testScore = model.evaluate(testX, y_test, verbose=0)\n",
    "print('Test Score: %.2f MSE (%.2f RMSE)' % (testScore[0], math.sqrt(testScore[0])))\n",
    "\n",
    "p = model.predict(testX)\n",
    "\n",
    "plt2.subplot(2, 1, 1)\n",
    "\n",
    "plt2.axis((0,100,0,30))\n",
    "val = np.array(p)\n",
    "print(p)\n",
    "plt2.plot(np.array(p),color='red', label='prediction')\n",
    "\n",
    "plt2.plot(np.array(y_test),color='blue', label='test')\n",
    "plt2.xlabel('no of tuples')\n",
    "plt2.title('Modal evalution and prediction using Test Data')\n",
    "plt2.legend(loc='upper right')\n",
    "\n",
    "\n",
    "\n",
    "# Power calculation\n",
    "\n",
    "both = 53.6 + 53.6 + 53 + 35.4 + 35.4\n",
    "day  = 45.8 + both\n",
    "night = 112.4 + 127.8 + 7.4 + 19.2+ 14.4 + 4.8 + both\n",
    "\n",
    "#\n",
    "plt2.subplot(2, 1, 2)\n",
    "for v in val:\n",
    "    for i in range(len(v)):\n",
    "        if(i == 2 ):\n",
    "            if(v[i] >= 0.5):\n",
    "                pSum = (both+day)*(v[0]/100) * 11.1 * 0.22194\n",
    "                plt2.plot(math.ceil(v[1]), pSum,'.-')\n",
    "            else:\n",
    "                pSum = (both+night)*(v[0]/100) * 11.1 * 0.22194\n",
    "                plt2.plot(math.ceil(v[1]),pSum, '.-')\n",
    "\n",
    "\n",
    "# plt2.plot(arr, '.-')\n",
    "plt2.xlabel('time (hours)')\n",
    "plt2.ylabel('Power consumed(kwh)')\n",
    "plt2.title(\"Lights\")\n",
    "\n",
    "plt2.subplot(2, 2, 2)\n",
    "for v in val:\n",
    "    for i in range(len(v)):\n",
    "        if(i == 3):\n",
    "                pSum = 40*(v[0]/100) * 11.1 * 0.22194 * v[i]\n",
    "\n",
    "                plt2.plot(math.ceil(v[1]), pSum,'.-')\n",
    "\n",
    "# precipitation\n",
    "plt2.xlabel('Time(hours)')\n",
    "plt2.ylabel('Power consumed(kwh)')\n",
    "plt2.title(\"Screen Wiper\")\n",
    "\n",
    "plt2.show()\n",
    "\n"
   ]
  }
 ],
 "metadata": {
  "kernelspec": {
   "display_name": "Python 2",
   "language": "python",
   "name": "python2"
  },
  "language_info": {
   "codemirror_mode": {
    "name": "ipython",
    "version": 3
   },
   "file_extension": ".py",
   "mimetype": "text/x-python",
   "name": "python",
   "nbconvert_exporter": "python",
   "pygments_lexer": "ipython3",
   "version": "3.7.3"
  },
  "pycharm": {
   "stem_cell": {
    "cell_type": "raw",
    "source": [],
    "metadata": {
     "collapsed": false
    }
   }
  }
 },
 "nbformat": 4,
 "nbformat_minor": 2
}